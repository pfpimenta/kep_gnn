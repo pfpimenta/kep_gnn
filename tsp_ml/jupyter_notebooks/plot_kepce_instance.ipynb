{
 "cells": [
  {
   "cell_type": "code",
   "execution_count": null,
   "metadata": {},
   "outputs": [],
   "source": [
    "import sys\n",
    "\n",
    "# to allow imports from outside the tsp_ml/datasets/ package\n",
    "sys.path.insert(0, \"/home/pimenta/tsp_ml/tsp_ml\")\n",
    "import pandas as pd\n",
    "\n",
    "from paths import  get_dataset_folder_path\n",
    "import torch\n",
    "import networkx as nx\n",
    "from torch_geometric.utils.convert import to_networkx"
   ]
  },
  {
   "cell_type": "code",
   "execution_count": null,
   "metadata": {},
   "outputs": [],
   "source": [
    "# get filepath\n",
    "step=\"train\"\n",
    "instance_id = \"c8ec03b98126fe4138aea353fe968db6\"\n",
    "dataset_dir = get_dataset_folder_path(\n",
    "    dataset_name=\"KEPCE\",\n",
    "    step=step,\n",
    ")\n",
    "filepath = dataset_dir /(\"kepce_instance_\" + instance_id + \".pt\")\n",
    "filepath\n"
   ]
  },
  {
   "cell_type": "code",
   "execution_count": null,
   "metadata": {},
   "outputs": [],
   "source": [
    "# load KEPCE instance\n",
    "kepce_instance = torch.load(filepath)\n",
    "print(kepce_instance)\n",
    "# cast to nx.Graph\n",
    "nx_kepce_graph = to_networkx(\n",
    "    data=kepce_instance,\n",
    "    node_attrs=[\"type\"],\n",
    "    edge_attrs=[\"edge_weights\", \"counter_edge\"],\n",
    ")\n",
    "print(nx_kepce_graph)"
   ]
  },
  {
   "cell_type": "code",
   "execution_count": null,
   "metadata": {},
   "outputs": [],
   "source": [
    "# check if half of the edges are counter edges, as it should be\n",
    "counter_edge_percentage = torch.mean(kepce_instance.counter_edge.to(float))\n",
    "counter_edge_percentage.item() == 0.5\n"
   ]
  },
  {
   "cell_type": "code",
   "execution_count": null,
   "metadata": {},
   "outputs": [],
   "source": [
    "# color nodes according to their type\n",
    "color_map = []\n",
    "for node_id in nx_kepce_graph:\n",
    "    node_type = nx_kepce_graph.nodes[node_id][\"type\"]\n",
    "    if node_type == \"NDD\":\n",
    "        color_map.append('lightgreen')\n",
    "    elif node_type == 'PDP':\n",
    "        color_map.append('lightblue')\n",
    "    elif node_type == \"P\":\n",
    "        color_map.append('red')\n",
    "    else:\n",
    "        raise ValueError(f'Type {node_type} is not valid.')\n",
    "nx.draw(G=nx_kepce_graph, node_color=color_map, with_labels=True)\n",
    "\n"
   ]
  },
  {
   "cell_type": "code",
   "execution_count": null,
   "metadata": {},
   "outputs": [],
   "source": [
    "nx_kepce_graph.edges(data=True)"
   ]
  },
  {
   "cell_type": "code",
   "execution_count": null,
   "metadata": {},
   "outputs": [],
   "source": []
  }
 ],
 "metadata": {
  "interpreter": {
   "hash": "383dea95d061e4f18b58966fca0e29afa0a51e6bb3311adc2f6051a73679a2ec"
  },
  "kernelspec": {
   "display_name": "Python 3.10.5 ('venv_tsp_gnn': venv)",
   "language": "python",
   "name": "python3"
  },
  "language_info": {
   "codemirror_mode": {
    "name": "ipython",
    "version": 3
   },
   "file_extension": ".py",
   "mimetype": "text/x-python",
   "name": "python",
   "nbconvert_exporter": "python",
   "pygments_lexer": "ipython3",
   "version": "3.10.5"
  }
 },
 "nbformat": 4,
 "nbformat_minor": 2
}
