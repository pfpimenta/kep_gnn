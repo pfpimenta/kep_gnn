{
 "cells": [
  {
   "cell_type": "code",
   "execution_count": 3,
   "metadata": {},
   "outputs": [],
   "source": [
    "import sys\n",
    "\n",
    "# to allow imports from outside the tsp_ml/datasets/ package\n",
    "sys.path.insert(0, \"/home/pimenta/tsp_ml/tsp_ml\")\n",
    "from datasets.generate_kepce_dataset import generate_kepce_instance\n",
    "import networkx as nx\n",
    "import random\n",
    "from torch_geometric.utils.convert import from_networkx\n"
   ]
  },
  {
   "cell_type": "code",
   "execution_count": 4,
   "metadata": {},
   "outputs": [],
   "source": [
    "NUM_NODES = 10\n",
    "NUM_EDGES = 25\n",
    "NODE_TYPES = [\n",
    "    \"NDD\",  # non-directed donors\n",
    "    \"PDP\",  # patient-donor pair\n",
    "    \"P\",  # pacient without a pair\n",
    "]\n",
    "NODE_TYPE_DISTRIBUTION = [0.05, 0.9, 0.05]\n",
    "\n",
    "kepce_instance_nx_graph = generate_kepce_instance(\n",
    "    num_nodes=NUM_NODES,\n",
    "    num_edges=NUM_EDGES,\n",
    "    node_types=NODE_TYPES,\n",
    "    node_type_distribution=NODE_TYPE_DISTRIBUTION,\n",
    ")"
   ]
  },
  {
   "cell_type": "code",
   "execution_count": 5,
   "metadata": {},
   "outputs": [],
   "source": [
    "kep_instance_pyg_graph = from_networkx(kepce_instance_nx_graph)"
   ]
  },
  {
   "cell_type": "code",
   "execution_count": 6,
   "metadata": {},
   "outputs": [
    {
     "data": {
      "text/plain": [
       "Data(edge_index=[2, 40], type=[10], edge_weights=[40], counter_edge=[40], num_nodes=10)"
      ]
     },
     "execution_count": 6,
     "metadata": {},
     "output_type": "execute_result"
    }
   ],
   "source": [
    "kep_instance_pyg_graph"
   ]
  },
  {
   "cell_type": "code",
   "execution_count": 9,
   "metadata": {},
   "outputs": [
    {
     "data": {
      "text/plain": [
       "['PDP', 'PDP', 'PDP', 'PDP', 'P', 'NDD', 'PDP', 'PDP', 'PDP', 'PDP']"
      ]
     },
     "execution_count": 9,
     "metadata": {},
     "output_type": "execute_result"
    }
   ],
   "source": [
    "from torch.nn.functional import one_hot\n",
    "# one_hot(kep_instance_pyg_graph.type)\n",
    "kep_instance_pyg_graph.type"
   ]
  },
  {
   "cell_type": "code",
   "execution_count": 11,
   "metadata": {},
   "outputs": [
    {
     "data": {
      "text/plain": [
       "OutEdgeView([(0, 6), (1, 4), (1, 9), (1, 6), (1, 2), (1, 7), (2, 7), (2, 3), (2, 1), (2, 4), (2, 6), (2, 9), (3, 2), (3, 9), (3, 8), (3, 6), (4, 1), (4, 2), (4, 5), (4, 7), (4, 8), (5, 9), (5, 4), (6, 1), (6, 3), (6, 0), (6, 2), (7, 2), (7, 4), (7, 1), (7, 9), (8, 3), (8, 9), (8, 4), (9, 1), (9, 3), (9, 5), (9, 8), (9, 7), (9, 2)])"
      ]
     },
     "execution_count": 11,
     "metadata": {},
     "output_type": "execute_result"
    }
   ],
   "source": [
    "kepce_instance_nx_graph.out_edges"
   ]
  },
  {
   "cell_type": "code",
   "execution_count": 19,
   "metadata": {},
   "outputs": [],
   "source": [
    "kepce_instance_nx_graph.degree(weight=1)"
   ]
  },
  {
   "cell_type": "code",
   "execution_count": 36,
   "metadata": {},
   "outputs": [
    {
     "data": {
      "text/plain": [
       "Data(edge_index=[2, 40], type=[10], test_feature=[10], num_out_edges=[10], num_in_edges=[10], edge_weights=[40], counter_edge=[40], num_nodes=10)"
      ]
     },
     "execution_count": 36,
     "metadata": {},
     "output_type": "execute_result"
    }
   ],
   "source": [
    "kep_instance_pyg_graph = from_networkx(kepce_instance_nx_graph)\n",
    "kep_instance_pyg_graph"
   ]
  },
  {
   "cell_type": "code",
   "execution_count": 39,
   "metadata": {},
   "outputs": [
    {
     "data": {
      "text/plain": [
       "tensor([[0, 1, 1, 1, 1, 1, 2, 2, 2, 2, 2, 2, 3, 3, 3, 3, 4, 4, 4, 4, 4, 5, 5, 6,\n",
       "         6, 6, 6, 7, 7, 7, 7, 8, 8, 8, 9, 9, 9, 9, 9, 9],\n",
       "        [6, 4, 9, 6, 2, 7, 7, 3, 1, 4, 6, 9, 2, 9, 8, 6, 1, 2, 5, 7, 8, 9, 4, 1,\n",
       "         3, 0, 2, 2, 4, 1, 9, 3, 9, 4, 1, 3, 5, 8, 7, 2]])"
      ]
     },
     "execution_count": 39,
     "metadata": {},
     "output_type": "execute_result"
    }
   ],
   "source": [
    "kep_instance_pyg_graph.edge_index"
   ]
  },
  {
   "cell_type": "code",
   "execution_count": 37,
   "metadata": {},
   "outputs": [
    {
     "data": {
      "text/plain": [
       "tensor([1, 5, 6, 4, 5, 2, 4, 4, 3, 6])"
      ]
     },
     "execution_count": 37,
     "metadata": {},
     "output_type": "execute_result"
    }
   ],
   "source": [
    "kep_instance_pyg_graph.num_in_edges"
   ]
  }
 ],
 "metadata": {
  "interpreter": {
   "hash": "383dea95d061e4f18b58966fca0e29afa0a51e6bb3311adc2f6051a73679a2ec"
  },
  "kernelspec": {
   "display_name": "Python 3.10.6 ('venv_tsp_gnn': venv)",
   "language": "python",
   "name": "python3"
  },
  "language_info": {
   "codemirror_mode": {
    "name": "ipython",
    "version": 3
   },
   "file_extension": ".py",
   "mimetype": "text/x-python",
   "name": "python",
   "nbconvert_exporter": "python",
   "pygments_lexer": "ipython3",
   "version": "3.10.6"
  },
  "orig_nbformat": 4
 },
 "nbformat": 4,
 "nbformat_minor": 2
}
