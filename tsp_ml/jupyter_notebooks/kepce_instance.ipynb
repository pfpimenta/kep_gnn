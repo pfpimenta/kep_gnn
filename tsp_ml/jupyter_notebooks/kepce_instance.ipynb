{
 "cells": [
  {
   "cell_type": "code",
   "execution_count": null,
   "metadata": {},
   "outputs": [],
   "source": [
    "import sys\n",
    "\n",
    "# to allow imports from outside the tsp_ml/datasets/ package\n",
    "sys.path.insert(0, \"/home/pimenta/tsp_ml/tsp_ml\")\n",
    "from datasets.generate_kepce_dataset import generate_kepce_instance\n",
    "import networkx as nx\n",
    "import random\n",
    "from torch_geometric.utils.convert import from_networkx\n"
   ]
  },
  {
   "cell_type": "code",
   "execution_count": null,
   "metadata": {},
   "outputs": [],
   "source": [
    "NUM_NODES = 10\n",
    "NUM_EDGES = 25\n",
    "NODE_TYPES = [\n",
    "    \"NDD\",  # non-directed donors\n",
    "    \"PDP\",  # patient-donor pair\n",
    "    \"P\",  # pacient without a pair\n",
    "]\n",
    "NODE_TYPE_DISTRIBUTION = [0.05, 0.9, 0.05]\n",
    "\n",
    "kepce_instance_nx_graph = generate_kepce_instance(\n",
    "    num_nodes=NUM_NODES,\n",
    "    num_edges=NUM_EDGES,\n",
    "    node_types=NODE_TYPES,\n",
    "    node_type_distribution=NODE_TYPE_DISTRIBUTION,\n",
    ")"
   ]
  },
  {
   "cell_type": "code",
   "execution_count": null,
   "metadata": {},
   "outputs": [],
   "source": [
    "kep_instance_pyg_graph = from_networkx(kepce_instance_nx_graph)"
   ]
  },
  {
   "cell_type": "code",
   "execution_count": null,
   "metadata": {},
   "outputs": [],
   "source": [
    "kep_instance_pyg_graph"
   ]
  },
  {
   "cell_type": "code",
   "execution_count": null,
   "metadata": {},
   "outputs": [],
   "source": [
    "from torch.nn.functional import one_hot\n",
    "# one_hot(kep_instance_pyg_graph.type)\n",
    "kep_instance_pyg_graph.type"
   ]
  },
  {
   "cell_type": "code",
   "execution_count": null,
   "metadata": {},
   "outputs": [],
   "source": [
    "kepce_instance_nx_graph.out_edges"
   ]
  },
  {
   "cell_type": "code",
   "execution_count": null,
   "metadata": {},
   "outputs": [],
   "source": [
    "kepce_instance_nx_graph.degree(weight=1)"
   ]
  },
  {
   "cell_type": "code",
   "execution_count": null,
   "metadata": {},
   "outputs": [],
   "source": [
    "kep_instance_pyg_graph = from_networkx(kepce_instance_nx_graph)\n",
    "kep_instance_pyg_graph"
   ]
  },
  {
   "cell_type": "code",
   "execution_count": null,
   "metadata": {},
   "outputs": [],
   "source": [
    "kep_instance_pyg_graph.edge_index"
   ]
  },
  {
   "cell_type": "code",
   "execution_count": null,
   "metadata": {},
   "outputs": [],
   "source": [
    "kep_instance_pyg_graph.num_in_edges"
   ]
  }
 ],
 "metadata": {
  "interpreter": {
   "hash": "383dea95d061e4f18b58966fca0e29afa0a51e6bb3311adc2f6051a73679a2ec"
  },
  "kernelspec": {
   "display_name": "Python 3.10.6 ('venv_tsp_gnn': venv)",
   "language": "python",
   "name": "python3"
  },
  "language_info": {
   "codemirror_mode": {
    "name": "ipython",
    "version": 3
   },
   "file_extension": ".py",
   "mimetype": "text/x-python",
   "name": "python",
   "nbconvert_exporter": "python",
   "pygments_lexer": "ipython3",
   "version": "3.10.6"
  }
 },
 "nbformat": 4,
 "nbformat_minor": 2
}
