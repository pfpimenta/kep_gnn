{
 "cells": [
  {
   "cell_type": "code",
   "execution_count": null,
   "metadata": {},
   "outputs": [],
   "source": [
    "import sys\n",
    "\n",
    "# to allow imports from outside the tsp_ml/datasets/ package\n",
    "sys.path.insert(0, \"/home/pimenta/tsp_ml/tsp_ml\")\n",
    "\n",
    "from paths import (\n",
    "    TSP_TEST_DATASET_FOLDER_PATH\n",
    ")\n",
    "import csv\n",
    "import torch\n",
    "import networkx as nx\n",
    "from torch_geometric.utils.convert import to_networkx"
   ]
  },
  {
   "cell_type": "code",
   "execution_count": null,
   "metadata": {},
   "outputs": [],
   "source": [
    "# open csv and recover predictions\n",
    "predictions = {}\n",
    "filepath =\"/home/pimenta/tsp_ml/data/tsp/predictions/test/predictions.csv\" \n",
    "with open(filepath) as csvfile:\n",
    "    reader = csv.reader(csvfile, delimiter=',')\n",
    "    for row in reader:\n",
    "        # print(row)\n",
    "        id, pred, truth = row\n",
    "        if id not in predictions.keys():\n",
    "            predictions[id] = {\"predictions\": [], \"truth\": []}\n",
    "        predictions[id][\"predictions\"].append(int(pred))\n",
    "        predictions[id][\"truth\"].append(int(truth))\n",
    "        # print(truth)\n",
    "print(predictions)\n"
   ]
  },
  {
   "cell_type": "code",
   "execution_count": null,
   "metadata": {},
   "outputs": [],
   "source": [
    "# load tsp intance\n",
    "# id = \"0d3f3ac84455fd38dc01215d0248514a\"\n",
    "id = \"5a88f6b12ee690fc8bccc13cb312abdb\"\n",
    "filepath = TSP_TEST_DATASET_FOLDER_PATH / f\"tsp_instance_{id}.pt\"\n",
    "tsp_graph = torch.load(filepath)\n"
   ]
  },
  {
   "cell_type": "code",
   "execution_count": null,
   "metadata": {},
   "outputs": [],
   "source": [
    "# cast to nx.Graph\n",
    "nx_tsp_graph = to_networkx(\n",
    "    data=tsp_graph,\n",
    "    node_attrs=[\"node_features\"],\n",
    "    edge_attrs=[\"y\", \"distance\"],\n",
    ")\n",
    "nx_tsp_graph"
   ]
  },
  {
   "cell_type": "code",
   "execution_count": null,
   "metadata": {},
   "outputs": [],
   "source": [
    "# add predictions to graph\n",
    "\n",
    "# create Dict: edge_tuple -> pred\n",
    "edge_tuples = nx_tsp_graph.edges()\n",
    "predictions_list = predictions[id][\"predictions\"]\n",
    "pyg_truth_values = predictions[id][\"truth\"]\n",
    "pred_attr_dict = {}\n",
    "for edge_tuple, pred in zip(edge_tuples, predictions_list):\n",
    "    pred_attr_dict[edge_tuple] = pred\n",
    "\n",
    "# for DEBUG\n",
    "# pyg_truth_attr_dict = {}\n",
    "# for edge_tuple, pyg_truth in zip(edge_tuples, pyg_truth_values):\n",
    "#     pyg_truth_attr_dict[edge_tuple] = pyg_truth\n",
    "\n",
    "nx.set_edge_attributes(G=nx_tsp_graph, values=pred_attr_dict, name=\"prediction\")\n",
    "# nx.set_edge_attributes(G=nx_tsp_graph, values=pyg_truth_attr_dict, name=\"pyg_truth\")\n",
    "\n",
    "# cast to undirected graph: nx.Graph\n",
    "nx_tsp_graph = nx_tsp_graph.to_undirected()\n",
    "nx_tsp_graph"
   ]
  },
  {
   "cell_type": "code",
   "execution_count": null,
   "metadata": {},
   "outputs": [],
   "source": [
    "# plot graph with optimal_route and predictions\n",
    "\n",
    "# get node_positions\n",
    "node_positions = {}\n",
    "for node_id, node_features in nx_tsp_graph.nodes(data=True):\n",
    "    node_positions[node_id] = node_features[\"node_features\"]\n",
    "\n",
    "# get optimal and predicted routes\n",
    "optimal_route_edges = []\n",
    "predicted_route_edges = []\n",
    "for (edge_src, edge_dst, edge_features) in nx_tsp_graph.edges(data=True):\n",
    "    if edge_features['y'] == 1:\n",
    "        optimal_route_edges.append((edge_src, edge_dst))\n",
    "    if edge_features['prediction'] == 1:\n",
    "        predicted_route_edges.append((edge_src, edge_dst))\n",
    "    \n",
    "# plot graph\n",
    "nx.draw(G=nx_tsp_graph, pos=node_positions)\n",
    "# plot optimal route in green\n",
    "nx.draw_networkx_edges(G=nx_tsp_graph,pos=node_positions,edgelist=optimal_route_edges, edge_color ='g', width=12)\n",
    "# plot predicted route in red\n",
    "nx.draw_networkx_edges(G=nx_tsp_graph,pos=node_positions,edgelist=predicted_route_edges, edge_color ='r', width=3)"
   ]
  }
 ],
 "metadata": {
  "interpreter": {
   "hash": "383dea95d061e4f18b58966fca0e29afa0a51e6bb3311adc2f6051a73679a2ec"
  },
  "kernelspec": {
   "display_name": "Python 3.10.5 ('venv_tsp_gnn': venv)",
   "language": "python",
   "name": "python3"
  },
  "language_info": {
   "codemirror_mode": {
    "name": "ipython",
    "version": 3
   },
   "file_extension": ".py",
   "mimetype": "text/x-python",
   "name": "python",
   "nbconvert_exporter": "python",
   "pygments_lexer": "ipython3",
   "version": "3.10.5"
  }
 },
 "nbformat": 4,
 "nbformat_minor": 2
}
