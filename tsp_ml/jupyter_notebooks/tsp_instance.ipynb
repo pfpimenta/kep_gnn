{
 "cells": [
  {
   "cell_type": "code",
   "execution_count": null,
   "metadata": {},
   "outputs": [],
   "source": [
    "import networkx as nx\n",
    "import random\n",
    "from math import sqrt\n",
    "import torch\n",
    "from torch_geometric.utils.convert import from_networkx\n",
    "import numpy as np\n",
    "from python_tsp.exact import solve_tsp_dynamic_programming\n"
   ]
  },
  {
   "cell_type": "code",
   "execution_count": null,
   "metadata": {},
   "outputs": [],
   "source": [
    "# TSP instance params\n",
    "# num_nodes = int(random.uniform(20, 40))\n",
    "# num_nodes = int(random.uniform(3, 5)) # for testing\n",
    "num_nodes = 15 # for testing\n",
    "nodes = range(num_nodes)\n",
    "x_values = [random.uniform(0, sqrt(2)/2) for n in nodes]\n",
    "y_values = [random.uniform(0, sqrt(2)/2) for n in nodes]\n",
    "print(f\"num_nodes: {num_nodes}\")"
   ]
  },
  {
   "cell_type": "code",
   "execution_count": null,
   "metadata": {},
   "outputs": [],
   "source": [
    "# create TSP instance graph\n",
    "g = nx.Graph()\n",
    "for node in nodes:\n",
    "    g.add_node(node, x=x_values[node], y=y_values[node])\n",
    "for src_node_id in nodes:\n",
    "    for dst_node_id in nodes:\n",
    "        if(src_node_id != dst_node_id ):\n",
    "            x1 = g.nodes[src_node_id][\"x\"]\n",
    "            y1 = g.nodes[src_node_id][\"y\"]\n",
    "            x2 = g.nodes[dst_node_id][\"x\"]\n",
    "            y2 = g.nodes[dst_node_id][\"y\"]\n",
    "            euclidian_distance = sqrt((x1-x2)**2 + (y1-y2)**2)\n",
    "            g.add_edge(src_node_id, dst_node_id, distance=euclidian_distance)"
   ]
  },
  {
   "cell_type": "code",
   "execution_count": null,
   "metadata": {},
   "outputs": [],
   "source": [
    "g.nodes(data=True)"
   ]
  },
  {
   "cell_type": "code",
   "execution_count": null,
   "metadata": {},
   "outputs": [],
   "source": [
    "g.edges(data=True)"
   ]
  },
  {
   "cell_type": "code",
   "execution_count": null,
   "metadata": {},
   "outputs": [],
   "source": [
    "node_positions = {node_id: (x_values[node_id], y_values[node_id])\n",
    "    for node_id in range(num_nodes)\n",
    "}\n",
    "nx.draw(g, pos=node_positions)"
   ]
  },
  {
   "cell_type": "code",
   "execution_count": null,
   "metadata": {},
   "outputs": [],
   "source": [
    "# Convert the graph into PyTorch geometric\n",
    "pyg_graph = from_networkx(g)\n",
    "pyg_graph\n"
   ]
  },
  {
   "cell_type": "code",
   "execution_count": null,
   "metadata": {},
   "outputs": [],
   "source": [
    "pyg_graph.edge_index"
   ]
  },
  {
   "cell_type": "code",
   "execution_count": null,
   "metadata": {},
   "outputs": [],
   "source": [
    "pyg_graph.distance"
   ]
  },
  {
   "cell_type": "code",
   "execution_count": null,
   "metadata": {},
   "outputs": [],
   "source": [
    "dict(nx.all_pairs_shortest_path(G=g))"
   ]
  },
  {
   "cell_type": "code",
   "execution_count": null,
   "metadata": {},
   "outputs": [],
   "source": [
    "distance_matrix = nx.floyd_warshall_numpy(G=g, weight=\"distance\")\n",
    "distance_matrix\n"
   ]
  },
  {
   "cell_type": "code",
   "execution_count": null,
   "metadata": {},
   "outputs": [],
   "source": [
    "distance_matrix = nx.floyd_warshall_numpy(G=g, weight=\"distance\")\n",
    "permutation, distance = solve_tsp_dynamic_programming(distance_matrix)\n",
    "print(f\"permutation: {permutation} - distance: {distance}\")"
   ]
  },
  {
   "cell_type": "code",
   "execution_count": null,
   "metadata": {},
   "outputs": [],
   "source": [
    "# draw graph\n",
    "nx.draw(g, pos=node_positions)\n",
    "# draw highlighted path\n",
    "path_edges = [[permutation[i], permutation[i+1]] for i in range(len(permutation)-1)]\n",
    "last_path_edge = [permutation[-1], permutation[0]]\n",
    "path_edges.append(last_path_edge)\n",
    "nx.draw_networkx_edges(G=g,pos=node_positions,edgelist=path_edges, edge_color ='r', width=10)"
   ]
  },
  {
   "cell_type": "code",
   "execution_count": null,
   "metadata": {},
   "outputs": [],
   "source": [
    "# add solution to graph as a feature/attribute\n",
    "solution_dict = {edge: 0 for edge in list(g.edges())}\n",
    "for edge in path_edges:\n",
    "    solution_dict[tuple(edge)] = 1\n",
    "nx.set_edge_attributes(G=g, values=solution_dict, name=\"solution\")\n",
    "g.edges(data=True)"
   ]
  },
  {
   "cell_type": "code",
   "execution_count": null,
   "metadata": {},
   "outputs": [],
   "source": [
    "# Convert the graph into PyTorch geometric\n",
    "pyg_graph = from_networkx(g)\n",
    "pyg_graph\n"
   ]
  },
  {
   "cell_type": "code",
   "execution_count": null,
   "metadata": {},
   "outputs": [],
   "source": [
    "pyg_graph.solution\n"
   ]
  },
  {
   "cell_type": "code",
   "execution_count": null,
   "metadata": {},
   "outputs": [],
   "source": [
    "# save nx graph in GML format\n",
    "graph_filename = \"temp_nx_graph.gml\"\n",
    "graph_filepath = \"./data/\" + graph_filename\n",
    "nx.write_gml(G=g, path=graph_filepath)"
   ]
  },
  {
   "cell_type": "code",
   "execution_count": null,
   "metadata": {},
   "outputs": [],
   "source": [
    "# read nx graph back from GML file\n",
    "nx_graph_from_gml = nx.read_gml(path=graph_filepath, destringizer=int)"
   ]
  },
  {
   "cell_type": "code",
   "execution_count": null,
   "metadata": {},
   "outputs": [],
   "source": [
    "# verify that graph read is the same that was written\n",
    "g_edge_view = g.edges(data=True)\n",
    "gml_g_edge_view = nx_graph_from_gml.edges(data=True)\n",
    "str(g_edge_view) == str(gml_g_edge_view)"
   ]
  }
 ],
 "metadata": {
  "interpreter": {
   "hash": "83c0f576b5f40b03d0178b82cc54eb24f9bd8c6ed0852b3e35ca30ad1fc8899b"
  },
  "kernelspec": {
   "display_name": "Python 3.10.2 ('tcc_venv': venv)",
   "language": "python",
   "name": "python3"
  },
  "language_info": {
   "codemirror_mode": {
    "name": "ipython",
    "version": 3
   },
   "file_extension": ".py",
   "mimetype": "text/x-python",
   "name": "python",
   "nbconvert_exporter": "python",
   "pygments_lexer": "ipython3",
   "version": "3.10.2"
  }
 },
 "nbformat": 4,
 "nbformat_minor": 2
}
