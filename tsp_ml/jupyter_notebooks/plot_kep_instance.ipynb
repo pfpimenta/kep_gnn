{
 "cells": [
  {
   "cell_type": "code",
   "execution_count": null,
   "metadata": {},
   "outputs": [],
   "source": [
    "import sys\n",
    "\n",
    "# to allow imports from  outside the tsp_ml/datasets/ package\n",
    "from pathlib import Path\n",
    "\n",
    "sys.path.insert(0, \"/home/pfpimenta/kep_gnn/tsp_ml\")\n",
    "import pandas as pd\n",
    "from os import listdir\n",
    "\n",
    "from paths import get_dataset_folder_path\n",
    "import torch\n",
    "import networkx as nx\n",
    "from torch_geometric.utils.convert import to_networkx"
   ]
  },
  {
   "cell_type": "code",
   "execution_count": null,
   "metadata": {},
   "outputs": [],
   "source": [
    "# get KEP instance filepath\n",
    "dataset_dir = get_dataset_folder_path(dataset_name=\"KEP\", step=\"custom\")\n",
    "# filename = listdir(dataset_dir)[0]\n",
    "# filename = \"kep_instance_4fefaa1110bf0c99a7cb172264c477c5.pt\" # A\n",
    "# filename = \"kep_instance_0dc9871f2973964c58fba8e5bba31971.pt\" # B\n",
    "# filename = \"kep_instance_aa039ce150e27524ac16d541af320cbf.pt\" # C\n",
    "# filename = \"kep_instance_c9059962f747c0240ec9d456b88cb421.pt\" # D\n",
    "filename = \"kep_instance_ef18aeec67b495e8cc52b63e264e9088.pt\" # tcc\n",
    "filepath = dataset_dir / filename\n",
    "# load KEP instance\n",
    "kep_instance = torch.load(filepath)\n",
    "print(f\"Loaded {filepath}\")\n",
    "# cast to nx.Graph\n",
    "nx_kep_graph = to_networkx(\n",
    "    data=kep_instance,\n",
    "    node_attrs=[\"type\"],\n",
    "    edge_attrs=[\"edge_weights\"],\n",
    "\n",
    ")\n",
    "nx_kep_graph"
   ]
  },
  {
   "cell_type": "code",
   "execution_count": null,
   "metadata": {},
   "outputs": [],
   "source": [
    "labels = nx.get_edge_attributes(G=nx_kep_graph, name=\"edge_weights\")\n",
    "labels"
   ]
  },
  {
   "cell_type": "code",
   "execution_count": null,
   "metadata": {},
   "outputs": [],
   "source": [
    "## plot graph\n",
    "# assign arbitrary 2D node positions for plot\n",
    "# posisions_dict = nx.spring_layout(nx_kep_graph)\n",
    "posisions_dict = nx.circular_layout(nx_kep_graph)\n",
    "# color nodes according to their type\n",
    "color_map = []\n",
    "for node_id in nx_kep_graph:\n",
    "    node_type = nx_kep_graph.nodes[node_id][\"type\"]\n",
    "    if node_type == \"NDD\":\n",
    "        color_map.append('lightgreen')\n",
    "    elif node_type == 'PDP':\n",
    "        color_map.append('lightblue')\n",
    "    elif node_type == \"P\":\n",
    "        color_map.append('red')\n",
    "    else:\n",
    "        raise ValueError(f'Type {node_type} is not valid.')\n",
    "# plot graph\n",
    "edges = nx_kep_graph.edges()\n",
    "edge_widths = [nx_kep_graph[u][v]['edge_weights']*3 for u,v in edges]\n",
    "nx.draw(G=nx_kep_graph, pos=posisions_dict, node_color=color_map, with_labels=True, width=edge_widths)\n",
    "# plot edge weights as text\n",
    "labels = nx.get_edge_attributes(G=nx_kep_graph, name=\"edge_weights\")\n",
    "labels = {k: f\"{v:.2f}\" for k, v in labels.items()} # limit digits\n",
    "nx.draw_networkx_edge_labels(G=nx_kep_graph,pos=posisions_dict,edge_labels=labels, font_size=8)\n",
    "\n"
   ]
  },
  {
   "cell_type": "code",
   "execution_count": null,
   "metadata": {},
   "outputs": [],
   "source": []
  },
  {
   "cell_type": "code",
   "execution_count": null,
   "metadata": {},
   "outputs": [],
   "source": []
  }
 ],
 "metadata": {
  "kernelspec": {
   "display_name": "venv_tsp_gnn",
   "language": "python",
   "name": "python3"
  },
  "language_info": {
   "codemirror_mode": {
    "name": "ipython",
    "version": 3
   },
   "file_extension": ".py",
   "mimetype": "text/x-python",
   "name": "python",
   "nbconvert_exporter": "python",
   "pygments_lexer": "ipython3",
   "version": "3.10.6"
  },
  "vscode": {
   "interpreter": {
    "hash": "eb115dd8f7b5dc1177b029031b39acf64c38cc84224c39bf68c57d143e4ab81f"
   }
  }
 },
 "nbformat": 4,
 "nbformat_minor": 2
}
