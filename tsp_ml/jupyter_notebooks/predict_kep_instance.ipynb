{
 "cells": [
  {
   "cell_type": "code",
   "execution_count": null,
   "metadata": {},
   "outputs": [],
   "source": [
    "import sys\n",
    "from os import listdir\n",
    "\n",
    "\n",
    "# to allow imports from  outside the tsp_ml/datasets/ package\n",
    "from pathlib import Path\n",
    "\n",
    "sys.path.insert(0, \"/home/pfpimenta/tsp_ml/tsp_ml\")\n",
    "from kep_evaluation import evaluate_kep_instance_prediction\n",
    "from paths import get_predictions_folder_path\n",
    "import torch\n",
    "import networkx as nx\n",
    "from torch_geometric.utils.convert import to_networkx\n"
   ]
  },
  {
   "cell_type": "code",
   "execution_count": null,
   "metadata": {},
   "outputs": [],
   "source": [
    "# get filepath\n",
    "step=\"test\"\n",
    "# trained_model_name = \"2022_09_19_23h55_GreedyPathsModel\"\n",
    "trained_model_name = \"2022_10_17_19h17_GreedyCyclesModel\"\n",
    "predictions_dir = get_predictions_folder_path(\n",
    "    dataset_name=\"KEP\",\n",
    "    step=step,\n",
    "    trained_model_name=trained_model_name,\n",
    ")\n",
    "predicted_instances_dir = predictions_dir / \"predicted_instances\"\n",
    "# filename = listdir(predicted_instances_dir)[0]\n",
    "instance_id = \"efd6faa288b0732635600d8d9fe0e826\"\n",
    "filename=(instance_id +\"_pred.pt\")\n",
    "filepath = predicted_instances_dir / filename\n"
   ]
  },
  {
   "cell_type": "code",
   "execution_count": null,
   "metadata": {},
   "outputs": [],
   "source": [
    "# load predicted instance\n",
    "predicted_instance = torch.load(filepath)\n",
    "# # cast to nx.Graph\n",
    "# nx_kep_graph = to_networkx(\n",
    "#     data=predicted_instance,\n",
    "#     node_attrs=[\"type\"],\n",
    "#     edge_attrs=[\"edge_weights\", \"pred\", \"scores\"],\n",
    "\n",
    "# )\n",
    "# nx_kep_graph\n",
    "predicted_instance"
   ]
  },
  {
   "cell_type": "code",
   "execution_count": null,
   "metadata": {},
   "outputs": [],
   "source": [
    "print(f\"torch.sum(predicted_instance.pred): {torch.sum(predicted_instance.pred)}\")\n",
    "print(f\"torch.unique(predicted_instance.pred): {torch.unique(predicted_instance.pred)}\")\n",
    "# print(f\"torch.sum(predicted_instance.pred): {torch.sum(predicted_instance.pred)}\")"
   ]
  },
  {
   "cell_type": "code",
   "execution_count": null,
   "metadata": {},
   "outputs": [],
   "source": [
    "evaluate_kep_instance_prediction(predicted_instance=predicted_instance)"
   ]
  },
  {
   "cell_type": "code",
   "execution_count": null,
   "metadata": {},
   "outputs": [],
   "source": []
  }
 ],
 "metadata": {
  "kernelspec": {
   "display_name": "Python 3.10.6 ('venv_tsp_gnn': venv)",
   "language": "python",
   "name": "python3"
  },
  "language_info": {
   "codemirror_mode": {
    "name": "ipython",
    "version": 3
   },
   "file_extension": ".py",
   "mimetype": "text/x-python",
   "name": "python",
   "nbconvert_exporter": "python",
   "pygments_lexer": "ipython3",
   "version": "3.10.6"
  },
  "orig_nbformat": 4,
  "vscode": {
   "interpreter": {
    "hash": "eb115dd8f7b5dc1177b029031b39acf64c38cc84224c39bf68c57d143e4ab81f"
   }
  }
 },
 "nbformat": 4,
 "nbformat_minor": 2
}
