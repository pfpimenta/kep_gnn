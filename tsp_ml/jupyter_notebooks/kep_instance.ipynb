{
 "cells": [
  {
   "cell_type": "code",
   "execution_count": null,
   "metadata": {},
   "outputs": [],
   "source": [
    "import networkx as nx\n",
    "import random\n",
    "from torch_geometric.utils.convert import from_networkx"
   ]
  },
  {
   "cell_type": "code",
   "execution_count": null,
   "metadata": {},
   "outputs": [],
   "source": [
    "num_nodes = 10 # for testing\n",
    "num_edges = 20\n",
    "ndd_percentage = 0.3\n",
    "nodes = range(num_nodes)\n",
    "g = nx.DiGraph()\n",
    "\n",
    "node_types = [\n",
    "    \"NDD\", # non-directed donors\n",
    "    \"PDP\", # patient-donor pair\n",
    "    \"P\", # pacient without a pair\n",
    "]\n",
    "node_type_distribution = [0.2, 0.4, 0.4]\n",
    "\n",
    "# add nodes\n",
    "for node in nodes:\n",
    "    node_type = random.choices(population=node_types, weights=node_type_distribution)[0]\n",
    "    g.add_node(node, type=node_type)\n",
    "\n",
    "# DEBUG:\n",
    "g.nodes[0][\"type\"]"
   ]
  },
  {
   "cell_type": "code",
   "execution_count": null,
   "metadata": {},
   "outputs": [],
   "source": [
    "## add edges (no features, directed)\n",
    "# TODO refactor\n",
    "for edge_id in range(num_edges):\n",
    "    src_node_id = random.choice(nodes)\n",
    "    # avoid having patient nodes as source of edges\n",
    "    while(g.nodes[src_node_id][\"type\"] == \"P\"):\n",
    "        src_node_id = random.choice(nodes)\n",
    "    dst_node_id = random.choice(nodes)\n",
    "    # avoid self loops \n",
    "    # AND avoid NDD nodes as destination of edges\n",
    "    while(src_node_id == dst_node_id or g.nodes[dst_node_id][\"type\"] == \"NDD\"):\n",
    "        dst_node_id = random.choice(nodes)\n",
    "    # add some random weight to the edge\n",
    "    edge_weight = random.random()\n",
    "    g.add_edge(src_node_id, dst_node_id, edge_weights=edge_weight)"
   ]
  },
  {
   "cell_type": "code",
   "execution_count": null,
   "metadata": {},
   "outputs": [],
   "source": [
    "## Visualize graph\n",
    "\n",
    "# color nodes according to their type\n",
    "color_map = []\n",
    "for node_id in g:\n",
    "    node_type = g.nodes[node_id][\"type\"]\n",
    "    if node_type == \"NDD\":\n",
    "        color_map.append('lightgreen')\n",
    "    elif node_type == 'PDP':\n",
    "        color_map.append('lightblue')\n",
    "    elif node_type == \"P\":\n",
    "        color_map.append('red')\n",
    "    else:\n",
    "        raise ValueError(f'Type {node_type} is not valid.')\n",
    "nx.draw(G=g, node_color=color_map, with_labels=True)"
   ]
  },
  {
   "cell_type": "code",
   "execution_count": null,
   "metadata": {},
   "outputs": [],
   "source": [
    "# TODO solve instance (exact solution)"
   ]
  },
  {
   "cell_type": "code",
   "execution_count": null,
   "metadata": {},
   "outputs": [],
   "source": [
    "# Convert the graph into PyTorch geometric\n",
    "pyg_graph = from_networkx(g)\n",
    "pyg_graph\n"
   ]
  },
  {
   "cell_type": "code",
   "execution_count": null,
   "metadata": {},
   "outputs": [],
   "source": [
    "#  create a random solution\n",
    "src_nodes = pyg_graph.edge_index[0].tolist()\n",
    "dst_nodes = pyg_graph.edge_index[1].tolist()\n",
    "# for each node, leave maximum of one edge leaving and maximum of one edge entering\n",
    "src_seen = []\n",
    "dst_seen = []\n",
    "solution_edge_indexes = []\n",
    "for i, src_node in enumerate(src_nodes):\n",
    "    dst_node = dst_nodes[i]\n",
    "    if src_node not in src_seen and dst_node not in dst_seen:\n",
    "        solution_edge_indexes.append(i)\n",
    "        dst_seen.append(dst_node)\n",
    "        src_seen.append(src_node)\n",
    "        # print(f\"DEBUG i: {i}, src_node: {src_node}, dst_node: {dst_node}\")\n"
   ]
  },
  {
   "cell_type": "code",
   "execution_count": null,
   "metadata": {},
   "outputs": [],
   "source": [
    "## Visualize solution\n",
    "posisions_dict = nx.spring_layout(g)\n",
    "path_edges = [\n",
    "    pyg_graph.edge_index[:, solution_edge_indexes[i]].tolist() for i in range(len(solution_edge_indexes))\n",
    "]\n",
    "# print(posisions_dict)\n",
    "# print(path_edges)\n",
    "# print(pyg_graph.edge_index)\n",
    "nx.draw(G=g, pos=posisions_dict, node_color=color_map, with_labels=True)\n",
    "nx.draw_networkx_edges(G=g, pos=posisions_dict, edgelist=path_edges, edge_color ='r', width=3)\n"
   ]
  },
  {
   "cell_type": "code",
   "execution_count": null,
   "metadata": {},
   "outputs": [],
   "source": [
    "## evaluate solution\n",
    "\n",
    "#  sum of all edge weights\n",
    "total_weight_sum = sum(pyg_graph.edge_weights)\n",
    "print(pyg_graph.edge_weights)\n",
    "print(f\"total_weight_sum: {total_weight_sum}\")\n",
    "# sum of all edge weights in solution\n",
    "solution_weight_sum = sum(pyg_graph.edge_weights[solution_edge_indexes])\n",
    "print(f\"solution_weight_sum: {solution_weight_sum}\")\n",
    "# sum of all edge weights outside solution\n",
    "# TODO consider only receiving nodes\n",
    "print(f\"not-solution weight_sum: {total_weight_sum - solution_weight_sum}\")\n",
    "# edge_weight percentage\n",
    "print(f\"solution_weight_sum/total_weight_sum: {solution_weight_sum/total_weight_sum}\")"
   ]
  },
  {
   "cell_type": "code",
   "execution_count": null,
   "metadata": {},
   "outputs": [],
   "source": []
  }
 ],
 "metadata": {
  "interpreter": {
   "hash": "383dea95d061e4f18b58966fca0e29afa0a51e6bb3311adc2f6051a73679a2ec"
  },
  "kernelspec": {
   "display_name": "Python 3.10.5 ('venv_tsp_gnn': venv)",
   "language": "python",
   "name": "python3"
  },
  "language_info": {
   "codemirror_mode": {
    "name": "ipython",
    "version": 3
   },
   "file_extension": ".py",
   "mimetype": "text/x-python",
   "name": "python",
   "nbconvert_exporter": "python",
   "pygments_lexer": "ipython3",
   "version": "3.10.5"
  }
 },
 "nbformat": 4,
 "nbformat_minor": 2
}
