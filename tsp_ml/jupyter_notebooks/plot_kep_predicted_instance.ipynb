{
 "cells": [
  {
   "cell_type": "code",
   "execution_count": null,
   "metadata": {},
   "outputs": [],
   "source": [
    "import sys\n",
    "\n",
    "# to allow imports from outside the tsp_ml/datasets/ package\n",
    "sys.path.insert(0, \"/home/pimenta/tsp_ml/tsp_ml\")\n",
    "import pandas as pd\n",
    "from os import listdir\n",
    "\n",
    "from paths import  get_predictions_folder_path\n",
    "import torch\n",
    "import networkx as nx\n",
    "from torch_geometric.utils.convert import to_networkx"
   ]
  },
  {
   "cell_type": "code",
   "execution_count": null,
   "metadata": {},
   "outputs": [],
   "source": [
    "# get filepath\n",
    "step=\"test_small\"\n",
    "# trained_model_name = \"2022_09_19_23h55_GreedyPathsModel\"\n",
    "trained_model_name = \"2022_09_29_17h31_GreedyCyclesModel\"\n",
    "predictions_dir = get_predictions_folder_path(\n",
    "    dataset_name=\"KEP\",\n",
    "    step=step,\n",
    "    trained_model_name=trained_model_name,\n",
    ")\n",
    "predicted_instances_dir = predictions_dir / \"predicted_instances\"\n",
    "# filename = listdir(predicted_instances_dir)[0]\n",
    "instance_id = \"5507bd9a3a1d054fe277c8f88ad2e4dc\"\n",
    "filename=(instance_id +\"_pred.pt\")\n",
    "filepath = predicted_instances_dir / filename\n",
    "\n",
    "# load predicted instance\n",
    "predicted_instance = torch.load(filepath)\n",
    "# cast to nx.Graph\n",
    "nx_kep_graph = to_networkx(\n",
    "    data=predicted_instance,\n",
    "    node_attrs=[\"type\"],\n",
    "    edge_attrs=[\"edge_weights\", \"pred\", \"scores\"],\n",
    "\n",
    ")\n",
    "nx_kep_graph"
   ]
  },
  {
   "cell_type": "code",
   "execution_count": null,
   "metadata": {},
   "outputs": [],
   "source": [
    "labels = nx.get_edge_attributes(G=nx_kep_graph, name=\"edge_weights\")\n",
    "labels\n"
   ]
  },
  {
   "cell_type": "code",
   "execution_count": null,
   "metadata": {},
   "outputs": [],
   "source": [
    "# color nodes according to their type\n",
    "color_map = []\n",
    "for node_id in nx_kep_graph:\n",
    "    node_type = nx_kep_graph.nodes[node_id][\"type\"]\n",
    "    if node_type == \"NDD\":\n",
    "        color_map.append('lightgreen')\n",
    "    elif node_type == 'PDP':\n",
    "        color_map.append('lightblue')\n",
    "    elif node_type == \"P\":\n",
    "        color_map.append('red')\n",
    "    else:\n",
    "        raise ValueError(f'Type {node_type} is not valid.')\n",
    "\n",
    "edges = nx_kep_graph.edges()\n",
    "edge_widths = [nx_kep_graph[u][v]['edge_weights']*3 for u,v in edges]\n",
    "nx.draw(G=nx_kep_graph, node_color=color_map, with_labels=True, width=edge_widths)\n",
    "\n"
   ]
  },
  {
   "cell_type": "code",
   "execution_count": null,
   "metadata": {},
   "outputs": [],
   "source": [
    "# get predicted edges\n",
    "predicted_edges = []\n",
    "for (edge_src, edge_dst, edge_features) in nx_kep_graph.edges(data=True):\n",
    "    if edge_features['pred'] == 1:\n",
    "        predicted_edges.append((edge_src, edge_dst))"
   ]
  },
  {
   "cell_type": "code",
   "execution_count": null,
   "metadata": {},
   "outputs": [],
   "source": [
    "# plot graph\n",
    "posisions_dict = nx.spring_layout(nx_kep_graph)\n",
    "nx.draw(G=nx_kep_graph, pos=posisions_dict, node_color=color_map, with_labels=True, width=edge_widths)\n",
    "# plot predicted route in red with weights as labels\n",
    "nx.draw_networkx_edges(G=nx_kep_graph,pos=posisions_dict,edgelist=predicted_edges, edge_color ='r', width=edge_widths)\n",
    "labels = nx.get_edge_attributes(G=nx_kep_graph, name=\"edge_weights\")\n",
    "labels = {k: f\"{v:.2f}\" for k, v in labels.items()} # limit digits\n",
    "nx.draw_networkx_edge_labels(G=nx_kep_graph,pos=posisions_dict,edge_labels=labels, font_size=8)\n",
    "# optional: save plot\n",
    "# import matplotlib.pyplot as plt\n",
    "# plot_filename = trained_model_name + + \".png\" # TODO\n",
    "# plt.savefig('plotgraph.png', dpi=300, bbox_inches='tight')\n",
    "# plt.show()\n"
   ]
  },
  {
   "cell_type": "code",
   "execution_count": null,
   "metadata": {},
   "outputs": [],
   "source": [
    "predicted_instance"
   ]
  },
  {
   "cell_type": "code",
   "execution_count": null,
   "metadata": {},
   "outputs": [],
   "source": [
    "print(predicted_instance.edge_index)\n",
    "print(predicted_instance.scores)\n",
    "print(predicted_instance.pred)\n",
    "print(predicted_instance.pred * predicted_instance.edge_index)\n",
    "print(predicted_instance.pred.view(-1, 1) * predicted_instance.scores)"
   ]
  },
  {
   "cell_type": "code",
   "execution_count": null,
   "metadata": {},
   "outputs": [],
   "source": []
  }
 ],
 "metadata": {
  "interpreter": {
   "hash": "383dea95d061e4f18b58966fca0e29afa0a51e6bb3311adc2f6051a73679a2ec"
  },
  "kernelspec": {
   "display_name": "Python 3.10.5 ('venv_tsp_gnn': venv)",
   "language": "python",
   "name": "python3"
  },
  "language_info": {
   "codemirror_mode": {
    "name": "ipython",
    "version": 3
   },
   "file_extension": ".py",
   "mimetype": "text/x-python",
   "name": "python",
   "nbconvert_exporter": "python",
   "pygments_lexer": "ipython3",
   "version": "3.10.6"
  }
 },
 "nbformat": 4,
 "nbformat_minor": 2
}
