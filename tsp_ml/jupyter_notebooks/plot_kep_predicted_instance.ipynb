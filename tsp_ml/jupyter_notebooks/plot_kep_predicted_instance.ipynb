{
 "cells": [
  {
   "cell_type": "code",
   "execution_count": null,
   "metadata": {},
   "outputs": [],
   "source": [
    "import sys\n",
    "\n",
    "# to allow imports from outside the tsp_ml/datasets/ package\n",
    "sys.path.insert(0, \"/home/pimenta/tsp_ml/tsp_ml\")\n",
    "import pandas as pd\n",
    "\n",
    "from paths import  get_predictions_folder_path\n",
    "import torch\n",
    "import networkx as nx\n",
    "from torch_geometric.utils.convert import to_networkx"
   ]
  },
  {
   "cell_type": "code",
   "execution_count": null,
   "metadata": {},
   "outputs": [],
   "source": [
    "# get filepath\n",
    "step=\"train\"\n",
    "instance_id = \"2190b9e3f112cccbf19ece7968ec5ad2\"\n",
    "trained_model_name = \"\" # TODO\n",
    "predictions_dir = get_predictions_folder_path(\n",
    "    dataset_name=\"KEP\",\n",
    "    step=step,\n",
    "    trained_model_name=trained_model_name,\n",
    ")\n",
    "predicted_instances_dir = predictions_dir / \"predicted_instances\"\n",
    "filepath = predicted_instances_dir /(instance_id +\"_pred.pt\")\n",
    "# load predicted instance\n",
    "predicted_instance = torch.load(filepath)\n",
    "# cast to nx.Graph\n",
    "nx_kep_graph = to_networkx(\n",
    "    data=predicted_instance,\n",
    "    node_attrs=[\"type\"],\n",
    "    edge_attrs=[\"edge_weights\", \"pred\", \"scores\"],\n",
    "\n",
    ")\n",
    "nx_kep_graph"
   ]
  },
  {
   "cell_type": "code",
   "execution_count": null,
   "metadata": {},
   "outputs": [],
   "source": [
    "# color nodes according to their type\n",
    "color_map = []\n",
    "for node_id in nx_kep_graph:\n",
    "    node_type = nx_kep_graph.nodes[node_id][\"type\"]\n",
    "    if node_type == \"NDD\":\n",
    "        color_map.append('lightgreen')\n",
    "    elif node_type == 'PDP':\n",
    "        color_map.append('lightblue')\n",
    "    elif node_type == \"P\":\n",
    "        color_map.append('red')\n",
    "    else:\n",
    "        raise ValueError(f'Type {node_type} is not valid.')\n",
    "nx.draw(G=nx_kep_graph, node_color=color_map, with_labels=True)\n",
    "\n"
   ]
  },
  {
   "cell_type": "code",
   "execution_count": null,
   "metadata": {},
   "outputs": [],
   "source": [
    "# get predicted edges\n",
    "predicted_edges = []\n",
    "for (edge_src, edge_dst, edge_features) in nx_kep_graph.edges(data=True):\n",
    "    if edge_features['pred'] == 1:\n",
    "        predicted_edges.append((edge_src, edge_dst))"
   ]
  },
  {
   "cell_type": "code",
   "execution_count": null,
   "metadata": {},
   "outputs": [],
   "source": [
    "# plot graph\n",
    "posisions_dict = nx.spring_layout(nx_kep_graph)\n",
    "nx.draw(G=nx_kep_graph, pos=posisions_dict, node_color=color_map, with_labels=True)\n",
    "# plot predicted route in red\n",
    "nx.draw_networkx_edges(G=nx_kep_graph,pos=posisions_dict,edgelist=predicted_edges, edge_color ='r', width=3)\n"
   ]
  },
  {
   "cell_type": "code",
   "execution_count": null,
   "metadata": {},
   "outputs": [],
   "source": []
  }
 ],
 "metadata": {
  "interpreter": {
   "hash": "383dea95d061e4f18b58966fca0e29afa0a51e6bb3311adc2f6051a73679a2ec"
  },
  "kernelspec": {
   "display_name": "Python 3.10.5 ('venv_tsp_gnn': venv)",
   "language": "python",
   "name": "python3"
  },
  "language_info": {
   "codemirror_mode": {
    "name": "ipython",
    "version": 3
   },
   "file_extension": ".py",
   "mimetype": "text/x-python",
   "name": "python",
   "nbconvert_exporter": "python",
   "pygments_lexer": "ipython3",
   "version": "3.10.5"
  }
 },
 "nbformat": 4,
 "nbformat_minor": 2
}
